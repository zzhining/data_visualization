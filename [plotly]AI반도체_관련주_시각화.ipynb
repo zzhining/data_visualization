{
  "nbformat": 4,
  "nbformat_minor": 0,
  "metadata": {
    "colab": {
      "provenance": [],
      "authorship_tag": "ABX9TyMB/K2J087kHczktQJlciOs",
      "include_colab_link": true
    },
    "kernelspec": {
      "name": "python3",
      "display_name": "Python 3"
    },
    "language_info": {
      "name": "python"
    },
    "gpuClass": "standard"
  },
  "cells": [
    {
      "cell_type": "markdown",
      "metadata": {
        "id": "view-in-github",
        "colab_type": "text"
      },
      "source": [
        "<a href=\"https://colab.research.google.com/github/zzhining/data_visualization/blob/main/%5Bplotly%5DAI%EB%B0%98%EB%8F%84%EC%B2%B4_%EA%B4%80%EB%A0%A8%EC%A3%BC_%EC%8B%9C%EA%B0%81%ED%99%94.ipynb\" target=\"_parent\"><img src=\"https://colab.research.google.com/assets/colab-badge.svg\" alt=\"Open In Colab\"/></a>"
      ]
    },
    {
      "cell_type": "code",
      "source": [
        "from IPython.display import YouTubeVideo, display\n",
        "video = YouTubeVideo(\"6ti0KiAZDSc\", width=500)\n",
        "display(video)"
      ],
      "metadata": {
        "id": "8ufOo41-t10v"
      },
      "execution_count": null,
      "outputs": []
    },
    {
      "cell_type": "markdown",
      "source": [
        "# 엔비디아 데이터 가져오기"
      ],
      "metadata": {
        "id": "XZ5bi0LwtbuZ"
      }
    },
    {
      "cell_type": "code",
      "source": [
        "from pandas_datareader import data\n",
        "import yfinance as yfin\n",
        "\n",
        "yfin.pdr_override()\n",
        "\n",
        "df = data.get_data_yahoo('NVDA', start = '2023-01-01')\n",
        "df.tail()"
      ],
      "metadata": {
        "id": "yr4yn43wO-E2"
      },
      "execution_count": null,
      "outputs": []
    },
    {
      "cell_type": "markdown",
      "source": [
        "## 데이터프레임 plot()"
      ],
      "metadata": {
        "id": "4U20yl4RuXLN"
      }
    },
    {
      "cell_type": "code",
      "source": [
        "df['Close'].plot(figsize = (18, 5))"
      ],
      "metadata": {
        "id": "kBNFYLeQPmrY"
      },
      "execution_count": null,
      "outputs": []
    },
    {
      "cell_type": "markdown",
      "source": [
        "## plotly\n"
      ],
      "metadata": {
        "id": "5cex0mHpubSv"
      }
    },
    {
      "cell_type": "markdown",
      "source": [
        "### line()\n",
        "\n",
        "- 'Close' 시각화\n",
        "\n"
      ],
      "metadata": {
        "id": "IGlHA5_qu2KS"
      }
    },
    {
      "cell_type": "code",
      "source": [
        "import plotly.express as px\n",
        "\n",
        "fig = px.line(df, y = 'Close')\n",
        "fig.show()"
      ],
      "metadata": {
        "id": "y8bQrMf3PogH"
      },
      "execution_count": null,
      "outputs": []
    },
    {
      "cell_type": "markdown",
      "source": [
        "### bar()\n",
        "- 'Volume' 시각화"
      ],
      "metadata": {
        "id": "1Lcg1a_LufFh"
      }
    },
    {
      "cell_type": "code",
      "source": [
        "fig = px.bar(df, y='Volume')\n",
        "fig.show()"
      ],
      "metadata": {
        "id": "oiC_Ya3lV2gB"
      },
      "execution_count": null,
      "outputs": []
    },
    {
      "cell_type": "markdown",
      "source": [
        "### line() with Rageslider\n"
      ],
      "metadata": {
        "id": "PE_LcAG_usQe"
      }
    },
    {
      "cell_type": "code",
      "source": [
        "fig = px.line(df, y='Close', title='Time Series with Rangeslider')\n",
        "\n",
        "fig.update_xaxes(rangeslider_visible = True)\n",
        "fig.show()"
      ],
      "metadata": {
        "id": "s1BnOj-9QZFR"
      },
      "execution_count": null,
      "outputs": []
    },
    {
      "cell_type": "markdown",
      "source": [
        "### line() with button()"
      ],
      "metadata": {
        "id": "qBEADJCKu9l5"
      }
    },
    {
      "cell_type": "code",
      "source": [
        "fig = px.line(df, y='Close', title='Time Series with Rangeslider')\n",
        "\n",
        "fig.update_xaxes(\n",
        "    rangeslider_visible=True,\n",
        "    rangeselector = dict(\n",
        "        buttons = list([\n",
        "            dict(count=1, label=\"1m\", step=\"month\", stepmode=\"backward\"),\n",
        "            dict(count=6, label=\"6m\", step=\"month\", stepmode=\"backward\"),\n",
        "            dict(count=1, label=\"YTD\", step=\"year\", stepmode=\"todate\"),\n",
        "            dict(count=1, label=\"1y\", step=\"year\", stepmode=\"backward\"),\n",
        "            dict(step=\"all\")\n",
        "        ])\n",
        "    )\n",
        ")\n",
        "fig.show()"
      ],
      "metadata": {
        "id": "uwzdDu76RHij",
        "collapsed": true
      },
      "execution_count": null,
      "outputs": []
    },
    {
      "cell_type": "markdown",
      "source": [
        "### subplot()"
      ],
      "metadata": {
        "id": "YFOsYCskvExQ"
      }
    },
    {
      "cell_type": "code",
      "source": [
        "from plotly.subplots import make_subplots\n",
        "import plotly.graph_objects as go\n",
        "\n",
        "# Create figure with secondary y-axis\n",
        "fig = make_subplots(specs=[[{\"secondary_y\": True}]])\n",
        "\n",
        "# Add traces\n",
        "fig.add_trace(\n",
        "    go.Line(x = df.index, y = df['Close']),\n",
        "    secondary_y= False\n",
        ")\n",
        "\n",
        "# Add traces\n",
        "fig.add_trace(\n",
        "    go.Bar(x = df.index, y = df['Volume']),\n",
        "    secondary_y= True\n",
        ")\n",
        "\n",
        "fig.update_xaxes(\n",
        "    rangeslider_visible=True,\n",
        "    rangeselector=dict(\n",
        "        buttons=list([\n",
        "            dict(count=1, label=\"1m\", step=\"month\", stepmode=\"backward\"),\n",
        "            dict(count=6, label=\"6m\", step=\"month\", stepmode=\"backward\"),\n",
        "            dict(count=1, label=\"YTD\", step=\"year\", stepmode=\"todate\"),\n",
        "            dict(count=1, label=\"1y\", step=\"year\", stepmode=\"backward\"),\n",
        "            dict(step=\"all\")\n",
        "        ])\n",
        "    )\n",
        ")\n",
        "\n",
        "# Set y-axes titles\n",
        "fig.update_yaxes(title_text=\"<b>Close</b> axis\", secondary_y=False)\n",
        "fig.update_yaxes(title_text=\"<b>Volume</b> axis\", secondary_y=True)\n",
        "\n",
        "fig.show()"
      ],
      "metadata": {
        "id": "v8LO09-cWXgy"
      },
      "execution_count": null,
      "outputs": []
    },
    {
      "cell_type": "markdown",
      "source": [
        "### candlestick()"
      ],
      "metadata": {
        "id": "3Jgeu7vCvIVE"
      }
    },
    {
      "cell_type": "code",
      "source": [
        "import pandas as pd\n",
        "from datetime import datetime\n",
        "\n",
        "fig = go.Figure(data = go.Candlestick(\n",
        "        x = df.index,\n",
        "        open = df['Open'],\n",
        "        close = df['Close'],\n",
        "        low = df['Low'],\n",
        "        high = df['High'],\n",
        "))\n",
        "\n",
        "fig.show()"
      ],
      "metadata": {
        "id": "arMPSeHJRP0h"
      },
      "execution_count": null,
      "outputs": []
    },
    {
      "cell_type": "markdown",
      "source": [
        "# 주요 AI 반도체 관련주 추이 확인하기"
      ],
      "metadata": {
        "id": "v2LjGkqZvMe5"
      }
    },
    {
      "cell_type": "markdown",
      "source": [
        "## 데이터 가져오기"
      ],
      "metadata": {
        "id": "gmfsvM3fvPiw"
      }
    },
    {
      "cell_type": "code",
      "source": [
        "tickers = ['NVDA',\n",
        "                'AMD', # AMD\n",
        "                'AVGO', # 브로드컴\n",
        "                'MSFT', # 마이크로소프트\n",
        "                'TSM' # TSMC\n",
        "                 ]\n",
        "df = pd.DataFrame()\n",
        "for ticker in tickers:\n",
        "    temp = data.get_data_yahoo(ticker, start = '2023-01-01')['Close']\n",
        "    df = pd.merge(df, temp, right_index=True, left_index=True, how='outer')\n",
        "    df.rename(columns={\"Close\": ticker}, inplace=True)"
      ],
      "metadata": {
        "id": "sVg-YJ_VVNeZ"
      },
      "execution_count": null,
      "outputs": []
    },
    {
      "cell_type": "code",
      "source": [
        "df"
      ],
      "metadata": {
        "id": "OFxk4y89cK5w"
      },
      "execution_count": null,
      "outputs": []
    },
    {
      "cell_type": "markdown",
      "source": [
        "## 5개 종목 시각화하기"
      ],
      "metadata": {
        "id": "1PvgsLWUvcjr"
      }
    },
    {
      "cell_type": "code",
      "source": [
        "import plotly.express as px\n",
        "fig = px.line(df, x=df.index, y=df.columns)\n",
        "fig.update_xaxes(\n",
        "    dtick=\"M1\",\n",
        "    tickformat=\"%b\\n%Y\")\n",
        "fig.show()"
      ],
      "metadata": {
        "id": "lJbbXi4Gg6Vk"
      },
      "execution_count": null,
      "outputs": []
    },
    {
      "cell_type": "markdown",
      "source": [
        "## 스케일 맞춰주기"
      ],
      "metadata": {
        "id": "rnrWeIMZvn9Y"
      }
    },
    {
      "cell_type": "code",
      "source": [
        "from sklearn.preprocessing import MinMaxScaler\n",
        "\n",
        "scaler = MinMaxScaler()\n",
        "scaled_data = scaler.fit_transform(df.values)\n",
        "scaled_df = pd.DataFrame(data=scaled_data, columns=df.columns, index = df.index)"
      ],
      "metadata": {
        "id": "LhHFcWL_hsRk"
      },
      "execution_count": null,
      "outputs": []
    },
    {
      "cell_type": "code",
      "source": [
        "fig = px.line(scaled_df, x=scaled_df.index, y=scaled_df.columns)\n",
        "fig.update_xaxes(\n",
        "    dtick=\"M1\",\n",
        "    tickformat=\"%b\\n%Y\")\n",
        "fig.show()"
      ],
      "metadata": {
        "id": "MJT0vZTDiY4P"
      },
      "execution_count": null,
      "outputs": []
    },
    {
      "cell_type": "code",
      "source": [],
      "metadata": {
        "id": "VYjV4qqasqFt"
      },
      "execution_count": null,
      "outputs": []
    }
  ]
}