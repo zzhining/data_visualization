{
  "cells": [
    {
      "cell_type": "markdown",
      "metadata": {
        "id": "view-in-github",
        "colab_type": "text"
      },
      "source": [
        "<a href=\"https://colab.research.google.com/github/zzhining/data_visualization/blob/main/tips.ipynb\" target=\"_parent\"><img src=\"https://colab.research.google.com/assets/colab-badge.svg\" alt=\"Open In Colab\"/></a>"
      ]
    },
    {
      "cell_type": "markdown",
      "metadata": {
        "id": "Tvlp1t94_TBx"
      },
      "source": [
        "# 환경설정\n",
        "- [seaborn](https://seaborn.pydata.org/api.html)\n",
        "- [ydata-profiling](https://github.com/ydataai/ydata-profiling)\n",
        "\n"
      ]
    },
    {
      "cell_type": "code",
      "source": [
        "pip install ydata-profiling"
      ],
      "metadata": {
        "collapsed": true,
        "id": "pUSElon8tF1m"
      },
      "execution_count": null,
      "outputs": []
    },
    {
      "cell_type": "code",
      "execution_count": null,
      "metadata": {
        "id": "_QocfxG2_TB1"
      },
      "outputs": [],
      "source": [
        "import seaborn as sns\n",
        "import matplotlib.pyplot as plt\n",
        "import pandas as pd\n",
        "import numpy as np\n",
        "\n",
        "tips = sns.load_dataset(\"tips\")\n",
        "tips.head()"
      ]
    },
    {
      "cell_type": "markdown",
      "source": [
        "# 기술 통계"
      ],
      "metadata": {
        "id": "WpTKm8LHvP8p"
      }
    },
    {
      "cell_type": "markdown",
      "source": [
        "## 수치형 데이터의 기술 통계"
      ],
      "metadata": {
        "id": "SpiXHLxqv5sm"
      }
    },
    {
      "cell_type": "code",
      "source": [
        "# 수치형 데이터의 기술 통계\n"
      ],
      "metadata": {
        "id": "rK6j2B4Au3CE"
      },
      "execution_count": null,
      "outputs": []
    },
    {
      "cell_type": "markdown",
      "source": [
        "## 범주형 데이터의 기술 통계\n",
        "`tips.describe(include = 'all')`"
      ],
      "metadata": {
        "id": "SrAim8ikvwsg"
      }
    },
    {
      "cell_type": "code",
      "source": [
        "# 범주형 데이터의 기술 통계\n"
      ],
      "metadata": {
        "id": "ljGiPGofu8oL"
      },
      "execution_count": null,
      "outputs": []
    },
    {
      "cell_type": "code",
      "source": [],
      "metadata": {
        "id": "J0fcxuyUwMY1"
      },
      "execution_count": null,
      "outputs": []
    },
    {
      "cell_type": "code",
      "source": [],
      "metadata": {
        "id": "QR24ePBZwMQy"
      },
      "execution_count": null,
      "outputs": []
    },
    {
      "cell_type": "markdown",
      "source": [
        "# 데이터 시각화"
      ],
      "metadata": {
        "id": "iWIJYjhKvSIi"
      }
    },
    {
      "cell_type": "code",
      "source": [
        "from ydata_profiling import ProfileReport\n",
        "profile = ProfileReport(tips, title=\"Profiling Report\")\n",
        "profile"
      ],
      "metadata": {
        "id": "DEAMKpubsuyb"
      },
      "execution_count": null,
      "outputs": []
    },
    {
      "cell_type": "markdown",
      "source": [
        "## 1. 변수간 상관관계\n",
        "---\n"
      ],
      "metadata": {
        "id": "DkltKeCf_phy"
      }
    },
    {
      "cell_type": "markdown",
      "source": [
        "\n",
        "### 1) Relational  plots\n",
        "\n",
        "    relplot\n",
        "    scatterplot\n",
        "    lineplot\n"
      ],
      "metadata": {
        "id": "aQjzRpOx_s2A"
      }
    },
    {
      "cell_type": "code",
      "execution_count": null,
      "metadata": {
        "id": "qR-j7SRY_TB3"
      },
      "outputs": [],
      "source": [
        "sns.relplot(x=\"total_bill\", y=\"tip\", data=tips)"
      ]
    },
    {
      "cell_type": "code",
      "source": [
        "sns.scatterplot(x=\"total_bill\", y=\"tip\", data=tips)"
      ],
      "metadata": {
        "id": "vAzGVQbSAPoR"
      },
      "execution_count": null,
      "outputs": []
    },
    {
      "cell_type": "code",
      "source": [
        "ax = sns.scatterplot(x=\"total_bill\", y=\"tip\", hue=\"time\", data=tips)"
      ],
      "metadata": {
        "id": "RurPP4xZC26s"
      },
      "execution_count": null,
      "outputs": []
    },
    {
      "cell_type": "code",
      "source": [
        "ax = sns.scatterplot(x=\"total_bill\", y=\"tip\", hue=\"day\", style=\"time\", data=tips)"
      ],
      "metadata": {
        "id": "eH9d6v7sC66m"
      },
      "execution_count": null,
      "outputs": []
    },
    {
      "cell_type": "code",
      "source": [
        "ax = sns.scatterplot(x=\"total_bill\", y=\"tip\", size=\"size\", data=tips)"
      ],
      "metadata": {
        "id": "1dBGt0iiC8ST"
      },
      "execution_count": null,
      "outputs": []
    },
    {
      "cell_type": "code",
      "source": [
        "cmap = sns.cubehelix_palette(dark=.3, light=.8, as_cmap=True)\n",
        "ax = sns.scatterplot(x=\"total_bill\", y=\"tip\",\n",
        "                     hue=\"size\", size=\"size\",\n",
        "                     sizes=(0, 200), palette=cmap,\n",
        "                     legend=\"full\", data=tips)"
      ],
      "metadata": {
        "id": "broR-hLRDA_b"
      },
      "execution_count": null,
      "outputs": []
    },
    {
      "cell_type": "code",
      "source": [
        "sns.lineplot(x=\"total_bill\", y=\"tip\", data=tips)"
      ],
      "metadata": {
        "id": "vC8c6K-EAQLr"
      },
      "execution_count": null,
      "outputs": []
    },
    {
      "cell_type": "code",
      "source": [
        "fig, ax = plt.subplots(ncols=2)\n",
        "sns.scatterplot(x=\"total_bill\", y=\"tip\", data=tips, ax=ax[0])\n",
        "sns.lineplot(x=\"total_bill\", y=\"tip\", data=tips, ax=ax[1])"
      ],
      "metadata": {
        "id": "K1TeThQnAUwy"
      },
      "execution_count": null,
      "outputs": []
    },
    {
      "cell_type": "markdown",
      "source": [
        "\n",
        "\n",
        "\n",
        "### 2) Regression  plots\n",
        "\n",
        "    lmplot\n",
        "    regplot\n",
        "    residplot\n",
        "\n"
      ],
      "metadata": {
        "id": "lE8BOoKQ_tvP"
      }
    },
    {
      "cell_type": "code",
      "source": [
        "sns.regplot(x=\"total_bill\", y=\"tip\", data=tips)"
      ],
      "metadata": {
        "id": "JGkamxBlBBq2"
      },
      "execution_count": null,
      "outputs": []
    },
    {
      "cell_type": "code",
      "source": [
        "sns.regplot(x=\"total_bill\", y=\"tip\", data=tips, line_kws={'color': 'red'})"
      ],
      "metadata": {
        "id": "DL94acCVCzg8"
      },
      "execution_count": null,
      "outputs": []
    },
    {
      "cell_type": "code",
      "source": [
        "sns.residplot(x=\"total_bill\", y=\"tip\", data=tips)"
      ],
      "metadata": {
        "id": "o-zQ4VcPBCFo"
      },
      "execution_count": null,
      "outputs": []
    },
    {
      "cell_type": "code",
      "source": [
        "_,var2 = plt.subplots(3,1,figsize=(20,12))\n",
        "sns.scatterplot(x=\"total_bill\", y=\"tip\", data=tips, ax=var2[0])\n",
        "sns.regplot(x=\"total_bill\", y=\"tip\", data=tips, ax=var2[1])\n",
        "sns.residplot(x=\"total_bill\", y=\"tip\", data=tips, ax=var2[2])"
      ],
      "metadata": {
        "id": "GKIssORHA9fO"
      },
      "execution_count": null,
      "outputs": []
    },
    {
      "cell_type": "markdown",
      "source": [
        "\n",
        "\n",
        "## 2. 데이터 분포(Distribution plots)\n",
        "\n",
        "    hisplot\n",
        "    kdeplot\n",
        "    rugplot\n",
        "\n"
      ],
      "metadata": {
        "id": "fNJ91aT0_ur4"
      }
    },
    {
      "cell_type": "code",
      "source": [
        "sns.histplot(tips.total_bill)"
      ],
      "metadata": {
        "id": "EvfSd3X0A5lA"
      },
      "execution_count": null,
      "outputs": []
    },
    {
      "cell_type": "code",
      "source": [
        "sns.kdeplot(tips.total_bill)"
      ],
      "metadata": {
        "id": "V_VvnfirA6ZC"
      },
      "execution_count": null,
      "outputs": []
    },
    {
      "cell_type": "code",
      "source": [
        "sns.rugplot(tips.total_bill)"
      ],
      "metadata": {
        "id": "I51c40IWA7sB"
      },
      "execution_count": null,
      "outputs": []
    },
    {
      "cell_type": "markdown",
      "source": [
        "\n",
        "\n",
        "## 3. 범주형 데이터(Categorical plots)\n",
        "\n",
        "    catplot\n",
        "    stripplot\n",
        "    swarmplot\n",
        "    boxplot\n",
        "    violinplot\n",
        "    boxenplot\n",
        "    pointplot\n",
        "    barplot\n",
        "    countplot\n",
        "\n"
      ],
      "metadata": {
        "id": "_lZZtm5J_vit"
      }
    },
    {
      "cell_type": "code",
      "source": [
        "sns.swarmplot(x=\"day\", y=\"total_bill\", data=tips)"
      ],
      "metadata": {
        "id": "qpZOqF1IAiFI"
      },
      "execution_count": null,
      "outputs": []
    },
    {
      "cell_type": "code",
      "source": [
        "sns.violinplot(x=\"day\", y=\"total_bill\", data=tips)"
      ],
      "metadata": {
        "id": "qcPGffjCAk6T"
      },
      "execution_count": null,
      "outputs": []
    },
    {
      "cell_type": "code",
      "source": [
        "sns.boxenplot(x=\"day\", y=\"total_bill\", data=tips)"
      ],
      "metadata": {
        "id": "51SiXIlsAmU6"
      },
      "execution_count": null,
      "outputs": []
    },
    {
      "cell_type": "code",
      "source": [
        "sns.pointplot(x=\"day\", y=\"total_bill\", data=tips)"
      ],
      "metadata": {
        "id": "i2JYDeinAnPI"
      },
      "execution_count": null,
      "outputs": []
    },
    {
      "cell_type": "code",
      "source": [
        "sns.barplot(x=\"day\", y=\"total_bill\", data=tips)"
      ],
      "metadata": {
        "id": "LUe288K3AyQ8"
      },
      "execution_count": null,
      "outputs": []
    },
    {
      "cell_type": "code",
      "source": [
        "sns.countplot(x=\"day\", data=tips)"
      ],
      "metadata": {
        "id": "pHGC4y8lA3SN"
      },
      "execution_count": null,
      "outputs": []
    },
    {
      "cell_type": "markdown",
      "source": [
        "\n",
        "\n",
        "## 4. 매트릭스 형태(Matrix plots)\n",
        "\n",
        "    heatmap\n",
        "    clustermap\n",
        "\n"
      ],
      "metadata": {
        "id": "EMizgz4Y_wZJ"
      }
    },
    {
      "cell_type": "code",
      "source": [
        "tips.corr(numeric_only=True)"
      ],
      "metadata": {
        "id": "-M7zPZ5MBenM"
      },
      "execution_count": null,
      "outputs": []
    },
    {
      "cell_type": "code",
      "source": [
        "sns.heatmap(tips.corr(numeric_only=True),annot=True)"
      ],
      "metadata": {
        "id": "Oo1Xn1J_BjoB"
      },
      "execution_count": null,
      "outputs": []
    },
    {
      "cell_type": "code",
      "source": [
        "sns.clustermap(tips.corr(numeric_only=True),annot=True)"
      ],
      "metadata": {
        "id": "lkfR2QfpBtSr"
      },
      "execution_count": null,
      "outputs": []
    },
    {
      "cell_type": "markdown",
      "source": [
        "\n",
        "\n",
        "## 5. 여러 개의 그래프를 한번에 그리기(Multi-plot)\n",
        "\n",
        "    FacetGird\n",
        "    pairplot\n",
        "    jointplot"
      ],
      "metadata": {
        "id": "iB8hPkc6_xNf"
      }
    },
    {
      "cell_type": "code",
      "source": [
        "sns.pairplot(tips)"
      ],
      "metadata": {
        "id": "py0VUcpYBxdU"
      },
      "execution_count": null,
      "outputs": []
    },
    {
      "cell_type": "code",
      "source": [
        "# \"time\"을 facet 처리\n",
        "# row, col : names of variables in ``data``, optional\n",
        "#     Categorical variables that will determine the faceting of the grid.\n",
        "sns.relplot(x=\"total_bill\", y=\"tip\", hue=\"smoker\", col=\"time\",data=tips);"
      ],
      "metadata": {
        "id": "aUTaUj88BzdZ"
      },
      "execution_count": null,
      "outputs": []
    }
  ],
  "metadata": {
    "kernelspec": {
      "display_name": "Python 3",
      "language": "python",
      "name": "python3"
    },
    "language_info": {
      "codemirror_mode": {
        "name": "ipython",
        "version": 3
      },
      "file_extension": ".py",
      "mimetype": "text/x-python",
      "name": "python",
      "nbconvert_exporter": "python",
      "pygments_lexer": "ipython3",
      "version": "3.8.5"
    },
    "toc": {
      "base_numbering": 1,
      "nav_menu": {},
      "number_sections": false,
      "sideBar": true,
      "skip_h1_title": false,
      "title_cell": "Table of Contents",
      "title_sidebar": "Contents",
      "toc_cell": false,
      "toc_position": {},
      "toc_section_display": true,
      "toc_window_display": false
    },
    "colab": {
      "provenance": [],
      "toc_visible": true,
      "include_colab_link": true
    }
  },
  "nbformat": 4,
  "nbformat_minor": 0
}