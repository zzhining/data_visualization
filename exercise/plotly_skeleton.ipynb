{
  "nbformat": 4,
  "nbformat_minor": 0,
  "metadata": {
    "colab": {
      "provenance": [],
      "include_colab_link": true
    },
    "kernelspec": {
      "name": "python3",
      "display_name": "Python 3"
    },
    "language_info": {
      "name": "python"
    }
  },
  "cells": [
    {
      "cell_type": "markdown",
      "metadata": {
        "id": "view-in-github",
        "colab_type": "text"
      },
      "source": [
        "<a href=\"https://colab.research.google.com/github/zzhining/data_visualization/blob/main/exercise/plotly_skeleton.ipynb\" target=\"_parent\"><img src=\"https://colab.research.google.com/assets/colab-badge.svg\" alt=\"Open In Colab\"/></a>"
      ]
    },
    {
      "cell_type": "markdown",
      "source": [
        "1. 다음 주식 데이터를 사용하여 주가의 시계열 그래프를 시각화하세요."
      ],
      "metadata": {
        "id": "A3uj5FYrTWIB"
      }
    },
    {
      "cell_type": "code",
      "execution_count": null,
      "metadata": {
        "id": "3BUx-5SwTVXQ"
      },
      "outputs": [],
      "source": [
        "import plotly.express as px\n",
        "import plotly.graph_objects as go\n",
        "import pandas as pd\n",
        "\n",
        "data = {\n",
        "    'date': pd.date_range('2024-01-01', periods=30),\n",
        "    'price': [100, 105, 110, 107, 115, 112, 116, 120, 118, 122, 125, 123, 127, 130, 135, 133, 137, 140, 138, 142,\n",
        "              145, 150, 148, 152, 155, 153, 158, 160, 162, 165]\n",
        "}\n",
        "df = pd.DataFrame(data)"
      ]
    },
    {
      "cell_type": "code",
      "source": [
        "# 답을 작성하세요\n"
      ],
      "metadata": {
        "id": "dbnQoDBiTcUP"
      },
      "execution_count": null,
      "outputs": []
    },
    {
      "cell_type": "markdown",
      "source": [
        "2. 다음 주식 데이터와 거래량 데이터를 사용하여 주가와 거래량의 시계열 그래프를 시각화하세요."
      ],
      "metadata": {
        "id": "rP97UueiTjp6"
      }
    },
    {
      "cell_type": "code",
      "source": [
        "data = {\n",
        "    'date': pd.date_range('2024-01-01', periods=30),\n",
        "    'price': [100, 105, 110, 107, 115, 112, 116, 120, 118, 122, 125, 123, 127, 130, 135, 133, 137, 140, 138, 142,\n",
        "              145, 150, 148, 152, 155, 153, 158, 160, 162, 165],\n",
        "    'volume': [5000, 5200, 4900, 5100, 4800, 4900, 5000, 5100, 5200, 5300, 5400, 5500, 5600, 5700, 5800, 5900, 6000,\n",
        "               6100, 6200, 6300, 6400, 6500, 6600, 6700, 6800, 6900, 7000, 7100, 7200, 7300]\n",
        "}\n",
        "df = pd.DataFrame(data)"
      ],
      "metadata": {
        "id": "eu1HREbdTpIR"
      },
      "execution_count": null,
      "outputs": []
    },
    {
      "cell_type": "code",
      "source": [
        "# 답을 작성하세요\n"
      ],
      "metadata": {
        "id": "-rOwZg6tUK8E"
      },
      "execution_count": null,
      "outputs": []
    },
    {
      "cell_type": "markdown",
      "source": [
        "3. 다음 주식 데이터와 거래량 데이터를 사용하여 주가와 거래량의 산점도를 시각화하세요."
      ],
      "metadata": {
        "id": "CqZH-bTlUPP2"
      }
    },
    {
      "cell_type": "code",
      "source": [
        "data = {\n",
        "    'date': pd.date_range('2024-01-01', periods=30),\n",
        "    'price': [100, 105, 110, 107, 115, 112, 116, 120, 118, 122, 125, 123, 127, 130, 135, 133, 137, 140, 138, 142,\n",
        "              145, 150, 148, 152, 155, 153, 158, 160, 162, 165],\n",
        "    'volume': [5000, 5200, 4900, 5100, 4800, 4900, 5000, 5100, 5200, 5300, 5400, 5500, 5600, 5700, 5800, 5900, 6000,\n",
        "               6100, 6200, 6300, 6400, 6500, 6600, 6700, 6800, 6900, 7000, 7100, 7200, 7300]\n",
        "}\n",
        "df = pd.DataFrame(data)"
      ],
      "metadata": {
        "id": "v1F3Gbt3VS5j"
      },
      "execution_count": null,
      "outputs": []
    },
    {
      "cell_type": "code",
      "source": [
        "# 답을 작성하세요\n"
      ],
      "metadata": {
        "id": "gH_4cZaXVZqo"
      },
      "execution_count": null,
      "outputs": []
    },
    {
      "cell_type": "markdown",
      "source": [
        "4. 다음 주식 데이터를 사용하여 주가의 분포를 상자 그림으로 시각화하세요."
      ],
      "metadata": {
        "id": "wVt6wDz8Vhmw"
      }
    },
    {
      "cell_type": "code",
      "source": [
        "data = {\n",
        "    'date': pd.date_range('2024-01-01', periods=30),\n",
        "    'price': [100, 105, 110, 107, 115, 112, 116, 120, 118, 122, 125, 123, 127, 130, 135, 133, 137, 140, 138, 142,\n",
        "              145, 150, 148, 152, 155, 153, 158, 160, 162, 165]\n",
        "}\n",
        "df = pd.DataFrame(data)"
      ],
      "metadata": {
        "id": "TvYi20e_Vmqz"
      },
      "execution_count": null,
      "outputs": []
    },
    {
      "cell_type": "code",
      "source": [
        "# 답을 작성하세요\n"
      ],
      "metadata": {
        "id": "QkYvWgvTVsGT"
      },
      "execution_count": null,
      "outputs": []
    },
    {
      "cell_type": "markdown",
      "source": [
        "5. 다음 주식 데이터를 사용하여 주가의 분포를 히스토그램으로 시각화하세요."
      ],
      "metadata": {
        "id": "0bcd0wniVw2W"
      }
    },
    {
      "cell_type": "code",
      "source": [
        "data = {\n",
        "    'date': pd.date_range('2024-01-01', periods=30),\n",
        "    'price': [100, 105, 110, 107, 115, 112, 116, 120, 118, 122, 125, 123, 127, 130, 135, 133, 137, 140, 138, 142,\n",
        "              145, 150, 148, 152, 155, 153, 158, 160, 162, 165]\n",
        "}\n",
        "df = pd.DataFrame(data)"
      ],
      "metadata": {
        "id": "lmyfAuxsV0-A"
      },
      "execution_count": null,
      "outputs": []
    },
    {
      "cell_type": "code",
      "source": [
        "# 답을 작성하세요\n"
      ],
      "metadata": {
        "id": "ESHud8khV3mf"
      },
      "execution_count": null,
      "outputs": []
    },
    {
      "cell_type": "markdown",
      "source": [
        "6. 다음 주식 데이터를 사용하여 캔들스틱 차트로 주가의 시가, 고가, 저가, 종가를 시각화하세요."
      ],
      "metadata": {
        "id": "7xKp5eKIWKvc"
      }
    },
    {
      "cell_type": "code",
      "source": [
        "data = {\n",
        "    'date': pd.date_range('2024-01-01', periods=30),\n",
        "    'open': [100, 105, 110, 107, 115, 112, 116, 120, 118, 122, 125, 123, 127, 130, 135, 133, 137, 140, 138, 142,\n",
        "             145, 150, 148, 152, 155, 153, 158, 160, 162, 165],\n",
        "    'high': [105, 112, 115, 118, 120, 123, 127, 133, 137, 142, 145, 150, 152, 158, 160, 165, 170, 175, 180, 185,\n",
        "             190, 195, 200, 205, 210, 215, 220, 225, 230, 235],\n",
        "    'low': [98, 100, 105, 107, 110, 112, 115, 118, 120, 122, 125, 127, 130, 133, 135, 138, 140, 145, 148, 150,\n",
        "            152, 155, 158, 160, 162, 165, 168, 170, 172, 175],\n",
        "    'close': [105, 110, 107, 115, 112, 116, 120, 118, 122, 125, 123, 127, 130, 135, 133, 137, 140, 138, 142, 145,\n",
        "              150, 148, 152, 155, 153, 158, 160, 162, 165, 168]\n",
        "}\n",
        "df = pd.DataFrame(data)"
      ],
      "metadata": {
        "id": "SD0l_MGZWPaM"
      },
      "execution_count": null,
      "outputs": []
    },
    {
      "cell_type": "code",
      "source": [
        "# 답을 작성하세요\n"
      ],
      "metadata": {
        "id": "oUInfQtvWTx6"
      },
      "execution_count": null,
      "outputs": []
    },
    {
      "cell_type": "markdown",
      "source": [
        "7. 다음 주식 데이터를 사용하여 주가 변동을 누적 막대 그래프로 시각화하세요."
      ],
      "metadata": {
        "id": "teP5FRpuWW5K"
      }
    },
    {
      "cell_type": "code",
      "source": [
        "data = {\n",
        "    'date': pd.date_range('2024-01-01', periods=30),\n",
        "    'price_change': [5, -3, 8, -3, 8, -3, 4, 6, -2, 4, 3, -2, 4, 3, 5, -2, 6, -3, 7, -2,\n",
        "                     3, 6, -3, 7, 5, -2, 6, 5, -3, 4]\n",
        "}\n",
        "df = pd.DataFrame(data)"
      ],
      "metadata": {
        "id": "1y5RGV-ZWnSd"
      },
      "execution_count": null,
      "outputs": []
    },
    {
      "cell_type": "code",
      "source": [
        "# 답을 작성하세요\n"
      ],
      "metadata": {
        "id": "8aQ1Ac3TWoGh"
      },
      "execution_count": null,
      "outputs": []
    },
    {
      "cell_type": "markdown",
      "source": [
        "@. 다음 주식 데이터를 사용하여 두 개의 주식의 주가 변동 추이를 비교하는 시각화를 구현하세요. (예: 회사 A와 회사 B의 주가)"
      ],
      "metadata": {
        "id": "BmNhH-MVW3JC"
      }
    },
    {
      "cell_type": "code",
      "source": [
        "data_A = {\n",
        "    'date': pd.date_range('2024-01-01', periods=30),\n",
        "    'price_A': [100, 105, 110, 107, 115, 112, 116, 120, 118, 122, 125, 123, 127, 130, 135, 133, 137, 140, 138, 142,\n",
        "              145, 150, 148, 152, 155, 153, 158, 160, 162, 165]\n",
        "}\n",
        "\n",
        "data_B = {\n",
        "    'date': pd.date_range('2024-01-01', periods=30),\n",
        "    'price_B': [90, 95, 100, 98, 105, 102, 106, 110, 108, 112, 115, 113, 117, 120, 125, 123, 127, 130, 128, 132,\n",
        "              135, 140, 138, 142, 145, 143, 148, 150, 152, 155]\n",
        "}\n",
        "\n",
        "df_A = pd.DataFrame(data_A)\n",
        "df_B = pd.DataFrame(data_B)"
      ],
      "metadata": {
        "id": "MB6Dgqr8WzXP"
      },
      "execution_count": null,
      "outputs": []
    },
    {
      "cell_type": "code",
      "source": [
        "# 답을 작성하세요\n"
      ],
      "metadata": {
        "id": "R3EPQvZ6Xy7N"
      },
      "execution_count": null,
      "outputs": []
    }
  ]
}