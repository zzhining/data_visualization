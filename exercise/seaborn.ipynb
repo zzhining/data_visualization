{
  "nbformat": 4,
  "nbformat_minor": 0,
  "metadata": {
    "colab": {
      "provenance": [],
      "include_colab_link": true
    },
    "kernelspec": {
      "name": "python3",
      "display_name": "Python 3"
    },
    "language_info": {
      "name": "python"
    }
  },
  "cells": [
    {
      "cell_type": "markdown",
      "metadata": {
        "id": "view-in-github",
        "colab_type": "text"
      },
      "source": [
        "<a href=\"https://colab.research.google.com/github/zzhining/data_visualization/blob/main/exercise/seaborn.ipynb\" target=\"_parent\"><img src=\"https://colab.research.google.com/assets/colab-badge.svg\" alt=\"Open In Colab\"/></a>"
      ]
    },
    {
      "cell_type": "markdown",
      "source": [
        "1. 다음 주식 종목의 종가를 선 그래프로 시각화하세요."
      ],
      "metadata": {
        "id": "OChHwlMJlw3-"
      }
    },
    {
      "cell_type": "code",
      "source": [
        "# 경고 메시지 무시\n",
        "import warnings\n",
        "warnings.filterwarnings('ignore')"
      ],
      "metadata": {
        "id": "WU4Wp339mLyU"
      },
      "execution_count": null,
      "outputs": []
    },
    {
      "cell_type": "code",
      "execution_count": null,
      "metadata": {
        "id": "JLG45ZnRlVpx"
      },
      "outputs": [],
      "source": [
        "import matplotlib.pyplot as plt\n",
        "import seaborn as sns\n",
        "import pandas as pd\n",
        "\n",
        "dates = pd.date_range('2024-01-01', periods=10)\n",
        "closing_prices = pd.Series([100, 102, 105, 110, 108, 106, 109, 112, 115, 118],\n",
        "                           index=dates)"
      ]
    },
    {
      "cell_type": "code",
      "source": [
        "#답을 작성하세요.\n"
      ],
      "metadata": {
        "id": "fRCrrSczmuLz"
      },
      "execution_count": null,
      "outputs": []
    },
    {
      "cell_type": "markdown",
      "source": [
        "2. 다음 daily_volumes의 일별 거래량 분포를 히스토그램으로 시각화하세요."
      ],
      "metadata": {
        "id": "jCC3EbbinfZm"
      }
    },
    {
      "cell_type": "code",
      "source": [
        "import numpy as np\n",
        "np.random.seed(0)\n",
        "daily_volumes = np.random.randint(1000, 5000, size=200)"
      ],
      "metadata": {
        "id": "xEo9383Png0X"
      },
      "execution_count": null,
      "outputs": []
    },
    {
      "cell_type": "code",
      "source": [
        "#답을 작성하세요.\n"
      ],
      "metadata": {
        "id": "4tP5AakFoA3a"
      },
      "execution_count": null,
      "outputs": []
    },
    {
      "cell_type": "markdown",
      "source": [
        "3. 다음 quarterly_prices의 분기별 종가를 박스 플롯으로 생성하세요.\n",
        "\n"
      ],
      "metadata": {
        "id": "XZWD4CkyoD0m"
      }
    },
    {
      "cell_type": "code",
      "source": [
        "quarterly_prices = {\n",
        "    'Quarter': ['Q1', 'Q1', 'Q1', 'Q2', 'Q2', 'Q2', 'Q3', 'Q3', 'Q3', 'Q4', 'Q4', 'Q4'],\n",
        "    'Closing Price': [100, 105, 110, 120, 125, 130, 135, 140, 145, 150, 155, 160]\n",
        "}\n",
        "\n",
        "df = pd.DataFrame(quarterly_prices)"
      ],
      "metadata": {
        "id": "GY4mlPbqoJwQ"
      },
      "execution_count": null,
      "outputs": []
    },
    {
      "cell_type": "code",
      "source": [
        "#답을 작성하세요.\n"
      ],
      "metadata": {
        "id": "l0J0A0b0oLlW"
      },
      "execution_count": null,
      "outputs": []
    },
    {
      "cell_type": "markdown",
      "source": [
        "4. 한 주식 종목의 일별 종가(daily_closing_prices)와 거래량(daily_trading_volume)의 관계를 산점도로 시각화하세요."
      ],
      "metadata": {
        "id": "Q2bIj5_0ovGi"
      }
    },
    {
      "cell_type": "code",
      "source": [
        "daily_closing_prices = pd.Series(np.random.randint(100, 150, size=20))\n",
        "daily_trading_volume = pd.Series(np.random.randint(1000, 5000, size=20))"
      ],
      "metadata": {
        "id": "-fL88CIGoxV2"
      },
      "execution_count": null,
      "outputs": []
    },
    {
      "cell_type": "code",
      "source": [
        "# 데이터 확인\n",
        "print(daily_closing_prices)\n",
        "print(daily_trading_volume)"
      ],
      "metadata": {
        "id": "mtMPtIwqrMeW"
      },
      "execution_count": null,
      "outputs": []
    },
    {
      "cell_type": "code",
      "source": [
        "#답을 작성하세요.\n"
      ],
      "metadata": {
        "id": "bqOtWkCmozys"
      },
      "execution_count": null,
      "outputs": []
    },
    {
      "cell_type": "markdown",
      "source": [
        "5. 두 주식 종목의 종가 분포를 비교하기 위해 바이올린 플롯을 생성하세요."
      ],
      "metadata": {
        "id": "PbZ1OL7HpxYT"
      }
    },
    {
      "cell_type": "code",
      "source": [
        "stock1_prices = np.random.normal(100, 10, 100)\n",
        "stock2_prices = np.random.normal(110, 15, 100)\n",
        "\n",
        "df = pd.DataFrame({'Stock': ['Stock1']*100 + ['Stock2']*100, 'Price': np.concatenate([stock1_prices, stock2_prices])})"
      ],
      "metadata": {
        "id": "GqTr55mwp0zN"
      },
      "execution_count": null,
      "outputs": []
    },
    {
      "cell_type": "code",
      "source": [
        "# 데이터프레임 확인\n",
        "print(df)"
      ],
      "metadata": {
        "id": "euzSgaAYrLE0"
      },
      "execution_count": null,
      "outputs": []
    },
    {
      "cell_type": "code",
      "source": [
        "# 답을 작성하세요.\n"
      ],
      "metadata": {
        "id": "ZXVrudRXp2WB"
      },
      "execution_count": null,
      "outputs": []
    },
    {
      "cell_type": "markdown",
      "source": [
        "6. 한 주식 종목의 종가, 거래량, 시가의 관계를 시각화하기 위해 페어 플롯을 생성하세요."
      ],
      "metadata": {
        "id": "CNrdKbHOqZD5"
      }
    },
    {
      "cell_type": "code",
      "source": [
        "df = pd.DataFrame({\n",
        "    'Closing Price': np.random.randint(100, 150, size=10),\n",
        "    'Trading Volume': np.random.randint(1000, 5000, size=10),\n",
        "    'Opening Price': np.random.randint(90, 140, size=10)\n",
        "})"
      ],
      "metadata": {
        "id": "IIMg_8JTqdK2"
      },
      "execution_count": null,
      "outputs": []
    },
    {
      "cell_type": "code",
      "source": [
        "# 데이터프레임 확인\n",
        "print(df)"
      ],
      "metadata": {
        "id": "UdB-wZ8SrDtz"
      },
      "execution_count": null,
      "outputs": []
    },
    {
      "cell_type": "code",
      "source": [
        "# 답을 작성하세요.\n"
      ],
      "metadata": {
        "id": "ANj7e-rNqdz4"
      },
      "execution_count": null,
      "outputs": []
    },
    {
      "cell_type": "markdown",
      "source": [
        "7. 여러 주식 종목의 종가 간 상관 관계를 히트맵으로 시각화하세요."
      ],
      "metadata": {
        "id": "HgsYkDyrqwhs"
      }
    },
    {
      "cell_type": "code",
      "source": [
        "np.random.seed(0)\n",
        "stocks = ['Stock1', 'Stock2', 'Stock3', 'Stock4']\n",
        "correlation_matrix = np.random.rand(4, 4)\n",
        "df = pd.DataFrame(correlation_matrix, columns=stocks, index=stocks)"
      ],
      "metadata": {
        "id": "ac_w-atFqv7a"
      },
      "execution_count": null,
      "outputs": []
    },
    {
      "cell_type": "code",
      "source": [
        "# 데이터프레임 확인\n",
        "print(df)"
      ],
      "metadata": {
        "id": "BI-eyGjKrJdn"
      },
      "execution_count": null,
      "outputs": []
    },
    {
      "cell_type": "code",
      "source": [
        "# 답을 작성하세요\n"
      ],
      "metadata": {
        "id": "dOozaAuxq0AF"
      },
      "execution_count": null,
      "outputs": []
    },
    {
      "cell_type": "markdown",
      "source": [
        "@. 한 주식 종목의 연간 종가 트렌드를 선 그래프로 시각화하고 이동 평균을 포함하세요."
      ],
      "metadata": {
        "id": "NAU7Lvynrm4x"
      }
    },
    {
      "cell_type": "code",
      "source": [
        "years = pd.date_range('2024-01-01', periods=365)\n",
        "yearly_closing_prices = pd.Series(np.random.randint(100, 150, size=365), index=years)\n",
        "rolling_mean = yearly_closing_prices.rolling(window=30).mean()"
      ],
      "metadata": {
        "id": "G3f9ED5jrk48"
      },
      "execution_count": null,
      "outputs": []
    },
    {
      "cell_type": "code",
      "source": [
        "# 답을 작성하세요\n"
      ],
      "metadata": {
        "id": "Bduq3-h3rsrT"
      },
      "execution_count": null,
      "outputs": []
    }
  ]
}